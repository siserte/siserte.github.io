{
 "cells": [
  {
   "cell_type": "markdown",
   "metadata": {},
   "source": [
    "# Publications markdown generator for academicpages\n",
    "\n",
    "Takes a set of bibtex of publications and converts them for use with [academicpages.github.io](academicpages.github.io). This is an interactive Jupyter notebook ([see more info here](http://jupyter-notebook-beginner-guide.readthedocs.io/en/latest/what_is_jupyter.html)). \n",
    "\n",
    "The core python code is also in `pubsFromBibs.py`. \n",
    "Run either from the `markdown_generator` folder after replacing updating the publist dictionary with:\n",
    "* bib file names\n",
    "* specific venue keys based on your bib file preferences\n",
    "* any specific pre-text for specific files\n",
    "* Collection Name (future feature)\n",
    "\n",
    "TODO: Make this work with other databases of citations, \n",
    "TODO: Merge this with the existing TSV parsing solution"
   ]
  },
  {
   "cell_type": "code",
   "execution_count": 38,
   "metadata": {},
   "outputs": [
    {
     "name": "stdout",
     "output_type": "stream",
     "text": [
      "Requirement already satisfied: pybtex in c:\\users\\bscuser\\appdata\\local\\packages\\pythonsoftwarefoundation.python.3.11_qbz5n2kfra8p0\\localcache\\local-packages\\python311\\site-packages (0.24.0)\n",
      "Requirement already satisfied: PyYAML>=3.01 in c:\\users\\bscuser\\appdata\\local\\packages\\pythonsoftwarefoundation.python.3.11_qbz5n2kfra8p0\\localcache\\local-packages\\python311\\site-packages (from pybtex) (6.0.1)\n",
      "Requirement already satisfied: latexcodec>=1.0.4 in c:\\users\\bscuser\\appdata\\local\\packages\\pythonsoftwarefoundation.python.3.11_qbz5n2kfra8p0\\localcache\\local-packages\\python311\\site-packages (from pybtex) (3.0.0)\n",
      "Requirement already satisfied: six in c:\\users\\bscuser\\appdata\\local\\packages\\pythonsoftwarefoundation.python.3.11_qbz5n2kfra8p0\\localcache\\local-packages\\python311\\site-packages (from pybtex) (1.16.0)\n"
     ]
    },
    {
     "name": "stderr",
     "output_type": "stream",
     "text": [
      "\n",
      "[notice] A new release of pip is available: 24.1.2 -> 25.0.1\n",
      "[notice] To update, run: C:\\Users\\bscuser\\AppData\\Local\\Microsoft\\WindowsApps\\PythonSoftwareFoundation.Python.3.11_qbz5n2kfra8p0\\python.exe -m pip install --upgrade pip\n"
     ]
    }
   ],
   "source": [
    "!pip install pybtex\n",
    "from pybtex.database.input import bibtex\n",
    "import pybtex.database.input.bibtex \n",
    "from time import strptime\n",
    "import string\n",
    "import html\n",
    "import os\n",
    "import re\n",
    "import calendar"
   ]
  },
  {
   "cell_type": "code",
   "execution_count": 39,
   "metadata": {},
   "outputs": [],
   "source": [
    "html_escape_table = {\n",
    "    \"&\": \"&amp;\",\n",
    "    '\"': \"&quot;\",\n",
    "    \"'\": \"&apos;\"\n",
    "    }\n",
    "\n",
    "def html_escape(text):\n",
    "    \"\"\"Produce entities within text.\"\"\"\n",
    "    return \"\".join(html_escape_table.get(c,c) for c in text)\n",
    "\n",
    "import shutil\n",
    "mydir = \"../_publications\"\n",
    "if os.path.exists(mydir):\n",
    "    shutil.rmtree(mydir)\n",
    "os.makedirs(mydir)"
   ]
  },
  {
   "cell_type": "code",
   "execution_count": 40,
   "metadata": {},
   "outputs": [],
   "source": [
    "def process_pubs(type):\n",
    "    cnt_pub = 0\n",
    "    for pubsource in publist:\n",
    "        parser = bibtex.Parser()\n",
    "        bibdata = parser.parse_file(publist[pubsource][\"file\"])\n",
    "\n",
    "        #loop through the individual references in a given bibtex file\n",
    "        for bib_id in bibdata.entries:\n",
    "            #reset default date\n",
    "            pub_year = \"1900\"\n",
    "            pub_month = \"01\"\n",
    "            pub_day = \"01\"\n",
    "            \n",
    "            b = bibdata.entries[bib_id].fields\n",
    "            \n",
    "            try:\n",
    "                if \"year\" in b:\n",
    "                    pub_year = f'{b[\"year\"]}'\n",
    "                    if \"month\" in b.keys(): \n",
    "                        if(len(b[\"month\"])<3):\n",
    "                            pub_month = \"0\"+b[\"month\"]\n",
    "                            pub_month = pub_month[-2:]\n",
    "                        elif(b[\"month\"] not in range(12)):\n",
    "                            tmnth = strptime(b[\"month\"][:3],'%b').tm_mon   \n",
    "                            pub_month = \"{:02d}\".format(tmnth) \n",
    "                        else:\n",
    "                            pub_month = str(b[\"month\"])\n",
    "                    if \"day\" in b.keys(): \n",
    "                        pub_day = str(b[\"day\"])\n",
    "\n",
    "                elif \"date\" in b:\n",
    "                    aux = str(b[\"date\"]).split(\"-\")\n",
    "                    pub_year = str(aux[0])\n",
    "                    pub_month = str(aux[1])\n",
    "                    if len(aux) == 3:\n",
    "                        pub_day = str(aux[2])\n",
    "\n",
    "                pub_date = pub_year + \"-\" + pub_month + \"-\" + pub_day\n",
    "                \n",
    "                #strip out {} as needed (some bibtex entries that maintain formatting)\n",
    "                clean_title = b[\"title\"].replace(\"{\", \"\").replace(\"}\",\"\").replace(\"\\\\\",\"\").replace(\" \",\"-\")    \n",
    "\n",
    "                url_slug = re.sub(\"\\\\[.*\\\\]|[^a-zA-Z0-9_-]\", \"\", clean_title)\n",
    "                url_slug = url_slug.replace(\"--\",\"-\")\n",
    "\n",
    "                md_filename = (str(pub_date) + \"-\" + url_slug + \".md\").replace(\"--\",\"-\")\n",
    "                html_filename = (str(pub_date) + \"-\" + url_slug).replace(\"--\",\"-\")\n",
    "\n",
    "                #Build Citation from text\n",
    "                citation = \"\"\n",
    "\n",
    "                #citation authors - todo - add highlighting for primary author?\n",
    "                n_authors = len(bibdata.entries[bib_id].persons[\"author\"])\n",
    "                cnt = 0\n",
    "                for author in bibdata.entries[bib_id].persons[\"author\"]:\n",
    "                    cnt += 1\n",
    "                    if author.last_names[0] == \"Iserte\":\n",
    "                        citation = citation +\" <strong>\" + author.first_names[0][0] + \". \"+author.last_names[0] + \"</strong>\"\n",
    "                    else:\n",
    "                        citation = citation + \" \" + author.first_names[0][0] + \". \" + author.last_names[0]\n",
    "                    if cnt == n_authors-1:\n",
    "                        citation = citation + \", and \"\n",
    "                    else:\n",
    "                        citation = citation + \", \"\n",
    "                        \n",
    "                #citation title\n",
    "                citation = citation + \"\\\"\" + html_escape(b[\"title\"].replace(\"{\", \"\").replace(\"}\",\"\").replace(\"\\\\\",\"\")) + \".\\\"\"\n",
    "\n",
    "                #add venue logic depending on citation type\n",
    "                venue = \"<em>\" + publist[pubsource][\"venue-pretext\"]+b[publist[pubsource][\"venuekey\"]].replace(\"{\", \"\").replace(\"}\",\"\").replace(\"\\\\\",\"\") + \"</em>\"\n",
    "\n",
    "                if \"volume\" in b:\n",
    "                    venue = venue + \"(\" + str(b[\"volume\"]) + \")\"\n",
    "\n",
    "                if \"pages\" in b:\n",
    "                    venue = venue + \", pp. \" + str(b[\"pages\"])\n",
    "\n",
    "                citation = citation + \" \" + html_escape(venue)\n",
    "                month_name = calendar.month_name[int(pub_month)]\n",
    "                if month_name == \"May\":\n",
    "                    month = \"May\"\n",
    "                else:\n",
    "                    month = month_name[0:3] + \".\"\n",
    "                citation = citation + \", \" + month + \" \" + pub_year + \".\"\n",
    "\n",
    "                if \"issn\" in b:\n",
    "                    citation = citation + \" ISSN: \" + str(b[\"issn\"]) + \".\"\n",
    "\n",
    "                ## YAML variables\n",
    "                md = \"---\\ntitle: \\\"\"   + html_escape(b[\"title\"].replace(\"{\", \"\").replace(\"}\",\"\").replace(\"\\\\\",\"\")) + '\"\\n'\n",
    "                md += \"\"\"collection: \"\"\" +  publist[pubsource][\"collection\"][\"name\"]\n",
    "                md += \"\"\"\\npermalink: \"\"\" + publist[pubsource][\"collection\"][\"permalink\"]  + html_filename\n",
    "                md += \"\\ntype: \\\"\" + type + \"\\\"\"\n",
    "                \n",
    "                note = False\n",
    "                if \"note\" in b.keys():\n",
    "                    if len(str(b[\"note\"])) > 5:\n",
    "                        md += \"\\nexcerpt: '\" + html_escape(b[\"note\"]) + \"'\"\n",
    "                        note = True\n",
    "\n",
    "                md += \"\\ndate: \" + str(pub_date) \n",
    "\n",
    "                md += \"\\nvenue: '\" + html_escape(venue) + \"'\"\n",
    "                \n",
    "                if \"doi\" in b:\n",
    "                        md += \"\\npaperurl: 'https://doi.org/\" + b[\"doi\"] + \"'\"\n",
    "                elif \"url\" in b.keys():\n",
    "                    if len(str(b[\"url\"])) > 5:\n",
    "                        md += \"\\npaperurl: '\" + b[\"url\"] + \"'\"\n",
    "\n",
    "                md += \"\\ncitation: '\" + html_escape(citation) + \"'\"\n",
    "\n",
    "                md += \"\\n---\"\n",
    "\n",
    "                \n",
    "                ## Markdown description for individual page\n",
    "                \"\"\"\n",
    "                if note:\n",
    "                    md += \"\\n\" + html_escape(b[\"note\"]) + \"\\n\"\n",
    "\n",
    "                if url:\n",
    "                    md += \"\\n[Access paper here](\" + b[\"url\"] + \"){:target=\\\"_blank\\\"}\\n\" \n",
    "                else:\n",
    "                    md += \"\\nUse [Google Scholar](https://scholar.google.com/scholar?q=\"+html.escape(clean_title.replace(\"-\",\"+\"))+\"){:target=\\\"_blank\\\"} for full citation\"\n",
    "                \"\"\"\n",
    "\n",
    "                md_filename = os.path.basename(md_filename)\n",
    "\n",
    "                with open(mydir + \"/\" + md_filename, 'w', encoding=\"utf-8\") as f:\n",
    "                    f.write(md)\n",
    "                print(f'SUCESSFULLY PARSED {bib_id}: \\\"', b[\"title\"][:60],\"...\"*(len(b['title'])>60),\"\\\"\")\n",
    "            # field may not exist for a reference\n",
    "            except KeyError as e:\n",
    "                print(f'WARNING Missing Expected Field {e} from entry {bib_id}: \\\"', b[\"title\"][:30],\"...\"*(len(b['title'])>30),\"\\\"\")\n",
    "                continue\n",
    "            cnt_pub += 1\n",
    "    return cnt_pub"
   ]
  },
  {
   "cell_type": "code",
   "execution_count": 41,
   "metadata": {},
   "outputs": [
    {
     "name": "stdout",
     "output_type": "stream",
     "text": [
      "SUCESSFULLY PARSED iserte2024dynamic: \" Dynamic Resources Utilization in Malleable Flooding Simulati ... \"\n",
      "SUCESSFULLY PARSED dutot2024leveraging: \" Leveraging Dynamic Resource Management in HPC  \"\n",
      "SUCESSFULLY PARSED usman2023bluefield: \" BlueField DPU Programming using OpenMP Offloading  \"\n",
      "SUCESSFULLY PARSED martin2021malleability: \" Malleability Implementation in a MPI Iterative Method  \"\n",
      "SUCESSFULLY PARSED iserte2018boosting: \" Boosting Productivity through Efficient Resource Management  \"\n",
      "SUCESSFULLY PARSED iserte2018mpi: \" MPI Malleability Integration into a Bioinformatics Tool  \"\n",
      "SUCESSFULLY PARSED iserte2018high: \" High-throughput Computation through MPI Malleability  \"\n",
      "SUCESSFULLY PARSED silla2016benefits: \" Benefits of remote GPU virtualization: the rCUDA perspective  \"\n",
      "SUCESSFULLY PARSED iserte2015gpu: \" GPU Virtualization in the Cloud  \"\n",
      "9\n"
     ]
    }
   ],
   "source": [
    "type=\"poster\"\n",
    "publist = {\n",
    "    \"journal\":{\n",
    "        \"file\": \"bib/\" + type + \".bib\",\n",
    "        \"venuekey\" : \"booktitle\",\n",
    "        \"venue-pretext\" : \"\",\n",
    "        \"collection\" : {\"name\":\"publications\",\n",
    "                        \"permalink\":\"/publication/\"}\n",
    "    } \n",
    "}\n",
    "print(process_pubs(type))"
   ]
  },
  {
   "cell_type": "code",
   "execution_count": 42,
   "metadata": {},
   "outputs": [
    {
     "name": "stdout",
     "output_type": "stream",
     "text": [
      "SUCESSFULLY PARSED dolz_energysaving_2011: \" {EnergySaving} Cluster Experience in {CETA}-{CIEMAT}  \"\n",
      "SUCESSFULLY PARSED iserte_slurm_2014: \" Slurm Support for Remote {GPU} Virtualization: Implementatio ... \"\n",
      "SUCESSFULLY PARSED iserte_enabling_2016: \" Enabling {GPU} Virtualization in Cloud Environments  \"\n",
      "SUCESSFULLY PARSED majo_distributed_2021: \" A Distributed Mesh Generation Study Case through a Customiza ... \"\n",
      "SUCESSFULLY PARSED martin-alvarez_configurable_2023: \" Configurable Synthetic Application for Studying Malleability ... \"\n",
      "SUCESSFULLY PARSED castello_accessible_2018: \" Accessible C-programming course from scratch using a {MOOC}  ... \"\n",
      "SUCESSFULLY PARSED tomas_learning_2021: \" Learning Databases Using Project-based Learning  \"\n",
      "SUCESSFULLY PARSED iserte_increasing_2016: \" Increasing the Performance of Data Centers by Combining Remo ... \"\n",
      "SUCESSFULLY PARSED halbiniak_unleashing_2024: \" Unleashing the Potential of Mixed Precision in {AI}-Accelera ... \"\n",
      "SUCESSFULLY PARSED iserte_towards_2024: \" Towards the {Democratization} and {Standardization} of {Dyna ... \"\n",
      "10\n"
     ]
    }
   ],
   "source": [
    "type=\"conference\"\n",
    "publist = {\n",
    "    \"journal\":{\n",
    "        \"file\": \"bib/\" + type + \".bib\",\n",
    "        \"venuekey\" : \"booktitle\",\n",
    "        \"venue-pretext\" : \"\",\n",
    "        \"collection\" : {\"name\":\"publications\",\n",
    "                        \"permalink\":\"/publication/\"}\n",
    "    } \n",
    "}\n",
    "print(process_pubs(type))"
   ]
  },
  {
   "cell_type": "code",
   "execution_count": 43,
   "metadata": {},
   "outputs": [
    {
     "name": "stdout",
     "output_type": "stream",
     "text": [
      "SUCESSFULLY PARSED iserte2023maleabilidad: \" Maleabilidad MPI basada en la eficiencia paralela  \"\n",
      "SUCESSFULLY PARSED martin-alvarez2023analisis: \" Análisis de métodos de redistribución de datos para aplicaci ... \"\n",
      "SUCESSFULLY PARSED gonzalez-barbera2023estudio: \" Estudio del rendimiento en entrenamientos distribuidos para  ... \"\n",
      "SUCESSFULLY PARSED martin-alvarez2022aplicacion: \" Aplicación sintética para el estudio de maleabilidad en comp ... \"\n",
      "SUCESSFULLY PARSED climent-agustina2019desarrollo: \" Desarrollo de una herramienta de simulación computacional 3D ... \"\n",
      "SUCESSFULLY PARSED iserte2017camino: \" El camino desde la maleabilidad MPI hasta las cargas de trab ... \"\n",
      "SUCESSFULLY PARSED iserte2015comparativa: \" Comparativa de políticas de selección de GPUs remotas en clu ... \"\n",
      "SUCESSFULLY PARSED iserte2014extendiendo: \" Extendiendo SLURM con soporte para el uso de GPUs remotas  \"\n",
      "SUCESSFULLY PARSED iserte2013planificador: \" Un planificador de GPUs remotas para clusters HPC  \"\n",
      "SUCESSFULLY PARSED reano2013virtualizacion: \" Virtualización remota de GPUs: Evaluación de soluciones disp ... \"\n",
      "SUCESSFULLY PARSED tomas2021improving: \" Improving Basic Competences Through Project-based Learning a ... \"\n",
      "11\n"
     ]
    }
   ],
   "source": [
    "type=\"national\"\n",
    "publist = {\n",
    "    \"journal\":{\n",
    "        \"file\": \"bib/\" + type + \".bib\",\n",
    "        \"venuekey\" : \"booktitle\",\n",
    "        \"venue-pretext\" : \"\",\n",
    "        \"collection\" : {\"name\":\"publications\",\n",
    "                        \"permalink\":\"/publication/\"}\n",
    "    } \n",
    "}\n",
    "print(process_pubs(type))"
   ]
  },
  {
   "cell_type": "code",
   "execution_count": 44,
   "metadata": {},
   "outputs": [
    {
     "name": "stdout",
     "output_type": "stream",
     "text": [
      "SUCESSFULLY PARSED carratala_teaching_2019: \" Teaching on Demand: an {HPC} Experience  \"\n",
      "SUCESSFULLY PARSED iserte_dynamic_2016: \" Dynamic Management of Resource Allocation for {OmpSs} Jobs  \"\n",
      "SUCESSFULLY PARSED iserte_productivity-enhancing_2018: \" Productivity-enhancing malleability for {HPC} applications  \"\n",
      "SUCESSFULLY PARSED iserte_boosting_2018: \" Boosting Productivity through Efficient Resource Management  \"\n",
      "SUCESSFULLY PARSED martin_efficient_2023: \" Efficient Data Redistribution for Malleable Applications  \"\n",
      "SUCESSFULLY PARSED usman_dpu_2023: \" {DPU} Offloading Programming with the {OpenMP} {API}  \"\n",
      "SUCESSFULLY PARSED dolz_flexible_2011: \" A Flexible Simulator to Evaluate a Power Saving System for { ... \"\n",
      "SUCESSFULLY PARSED silla_remote_2016: \" Remote {GPU} Virtualization: Is It Useful?  \"\n",
      "SUCESSFULLY PARSED iserte_efficient_2017: \" Efficient Scalable Computing through Flexible Applications a ... \"\n",
      "SUCESSFULLY PARSED rosciszewski_adaptation_2022: \" Adaptation of {AI}-accelerated {CFD} Simulations to the {IPU ... \"\n",
      "SUCESSFULLY PARSED iserte_parallel_2024: \" Parallel Efficiency-aware Standard {MPI}-based Malleability  \"\n",
      "11\n"
     ]
    }
   ],
   "source": [
    "type=\"workshop\"\n",
    "publist = {\n",
    "    \"journal\":{\n",
    "        \"file\": \"bib/\" + type + \".bib\",\n",
    "        \"venuekey\" : \"booktitle\",\n",
    "        \"venue-pretext\" : \"\",\n",
    "        \"collection\" : {\"name\":\"publications\",\n",
    "                        \"permalink\":\"/publication/\"}\n",
    "    } \n",
    "}\n",
    "print(process_pubs(type))"
   ]
  },
  {
   "cell_type": "code",
   "execution_count": 45,
   "metadata": {},
   "outputs": [
    {
     "name": "stdout",
     "output_type": "stream",
     "text": [
      "SUCESSFULLY PARSED iserte2022study: \" A Study on the Resource Utilization and User Behavior on Tit ... \"\n",
      "SUCESSFULLY PARSED iserte2021construya: \" Construya su propio supercomputador con Raspberri Pi  \"\n",
      "2\n"
     ]
    }
   ],
   "source": [
    "type=\"book\"\n",
    "publist = {\n",
    "    \"journal\":{\n",
    "        \"file\": \"bib/\" + type + \".bib\",\n",
    "        \"venuekey\" : \"booktitle\",\n",
    "        \"venue-pretext\" : \"\",\n",
    "        \"collection\" : {\"name\":\"publications\",\n",
    "                        \"permalink\":\"/publication/\"}\n",
    "    } \n",
    "}\n",
    "print(process_pubs(type))"
   ]
  },
  {
   "cell_type": "code",
   "execution_count": 46,
   "metadata": {},
   "outputs": [
    {
     "name": "stdout",
     "output_type": "stream",
     "text": [
      "SUCESSFULLY PARSED tarraf_malleability_2024: \" Malleability in Modern {HPC} Systems: Current Experiences, C ... \"\n",
      "SUCESSFULLY PARSED iserte_complete_2022: \" Complete Integration of Team Project-based Learning into a D ... \"\n",
      "SUCESSFULLY PARSED dolz_simulator_2012: \" A Simulator to Assess Energy Saving Strategies and Policies  ... \"\n",
      "SUCESSFULLY PARSED silla_benefits_2017: \" On the Benefits of the Remote {GPU} Virtualization Mechanism ... \"\n",
      "SUCESSFULLY PARSED iserte_gsaas_2018: \" {GSaaS}: A Service to Cloudify and Schedule {GPUs}  \"\n",
      "SUCESSFULLY PARSED silla_improving_2019: \" Improving the Management Efficiency of {GPU} Workloads in Da ... \"\n",
      "SUCESSFULLY PARSED iserte_dmr_2018: \" {DMR} {API}: Improving Cluster Productivity by Turning Appli ... \"\n",
      "SUCESSFULLY PARSED iserte_dynamic_2018: \" Dynamic Reconfiguration of Non-iterative Scientific Applicat ... \"\n",
      "SUCESSFULLY PARSED iserte_dmrlib_2020: \" {DMRlib}: Easy-coding and Efficient Resource Management for  ... \"\n",
      "SUCESSFULLY PARSED aliaga_survey_2022: \" A Survey on Malleability Solutions for High-Performance Dist ... \"\n",
      "SUCESSFULLY PARSED iserte_accelerating_2022: \" Accelerating Urban Scale Simulations Leveraging Local Spatia ... \"\n",
      "SUCESSFULLY PARSED martin-alvarez_dynamic_2023: \" Dynamic spawning of {MPI} processes applied to malleability  \"\n",
      "SUCESSFULLY PARSED rosciszewski_optimizing_2023: \" Optimizing Throughput of Seq2Seq Model Training on the {IPU} ... \"\n",
      "SUCESSFULLY PARSED iserte_study_2020: \" A Study of the Effect of Process Malleability in the Energy  ... \"\n",
      "SUCESSFULLY PARSED catalan_leveraging_2021: \" Leveraging Teaching on Demand: Approaching {HPC} to Undergra ... \"\n",
      "SUCESSFULLY PARSED iserte_modeling_2021: \" Modeling of Wastewater Treatment Processes with {HydroSludge ... \"\n",
      "SUCESSFULLY PARSED iserte_study_2023: \" A Study on the Performance of Distributed Training of Data-d ... \"\n",
      "SUCESSFULLY PARSED martinez-cuenca_use_2023: \" On the Use of Deep Learning and Computational Fluid Dynamics ... \"\n",
      "SUCESSFULLY PARSED martin-alvarez_proteo_2024: \" Proteo: a framework for the generation and evaluation of mal ... \"\n",
      "19\n"
     ]
    }
   ],
   "source": [
    "type=\"journal\"\n",
    "publist = {\n",
    "    \"journal\":{\n",
    "        \"file\": \"bib/\" + type + \".bib\",\n",
    "        \"venuekey\" : \"journaltitle\",\n",
    "        \"venue-pretext\" : \"\",\n",
    "        \"collection\" : {\"name\":\"publications\",\n",
    "                        \"permalink\":\"/publication/\"}\n",
    "    } \n",
    "}\n",
    "print(process_pubs(type))"
   ]
  },
  {
   "cell_type": "code",
   "execution_count": null,
   "metadata": {},
   "outputs": [],
   "source": []
  },
  {
   "cell_type": "code",
   "execution_count": null,
   "metadata": {},
   "outputs": [],
   "source": []
  },
  {
   "cell_type": "code",
   "execution_count": null,
   "metadata": {},
   "outputs": [],
   "source": []
  }
 ],
 "metadata": {
  "kernelspec": {
   "display_name": "Python 3",
   "language": "python",
   "name": "python3"
  },
  "language_info": {
   "codemirror_mode": {
    "name": "ipython",
    "version": 3
   },
   "file_extension": ".py",
   "mimetype": "text/x-python",
   "name": "python",
   "nbconvert_exporter": "python",
   "pygments_lexer": "ipython3",
   "version": "3.11.9"
  }
 },
 "nbformat": 4,
 "nbformat_minor": 2
}
