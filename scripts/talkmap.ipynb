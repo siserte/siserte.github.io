{
 "cells": [
  {
   "cell_type": "markdown",
   "metadata": {},
   "source": [
    "# Leaflet cluster map of talk locations\n",
    "\n",
    "Run this from the _talks/ directory, which contains .md files of all your talks. This scrapes the location YAML field from each .md file, geolocates it with geopy/Nominatim, and uses the getorg library to output data, HTML, and Javascript for a standalone cluster map."
   ]
  },
  {
   "cell_type": "code",
   "execution_count": 1,
   "metadata": {
    "collapsed": false
   },
   "outputs": [
    {
     "name": "stderr",
     "output_type": "stream",
     "text": [
      "\n",
      "[notice] A new release of pip is available: 24.0 -> 25.2\n",
      "[notice] To update, run: C:\\Users\\siser\\AppData\\Local\\Microsoft\\WindowsApps\\PythonSoftwareFoundation.Python.3.11_qbz5n2kfra8p0\\python.exe -m pip install --upgrade pip\n"
     ]
    },
    {
     "name": "stdout",
     "output_type": "stream",
     "text": [
      "Requirement already satisfied: getorg in c:\\users\\siser\\appdata\\local\\packages\\pythonsoftwarefoundation.python.3.11_qbz5n2kfra8p0\\localcache\\local-packages\\python311\\site-packages (0.3.1)\n",
      "Requirement already satisfied: ipywidgets in c:\\users\\siser\\appdata\\local\\packages\\pythonsoftwarefoundation.python.3.11_qbz5n2kfra8p0\\localcache\\local-packages\\python311\\site-packages (8.1.7)\n",
      "Requirement already satisfied: geopy in c:\\users\\siser\\appdata\\local\\packages\\pythonsoftwarefoundation.python.3.11_qbz5n2kfra8p0\\localcache\\local-packages\\python311\\site-packages (from getorg) (2.4.1)\n",
      "Requirement already satisfied: pygithub in c:\\users\\siser\\appdata\\local\\packages\\pythonsoftwarefoundation.python.3.11_qbz5n2kfra8p0\\localcache\\local-packages\\python311\\site-packages (from getorg) (2.7.0)\n",
      "Requirement already satisfied: retrying in c:\\users\\siser\\appdata\\local\\packages\\pythonsoftwarefoundation.python.3.11_qbz5n2kfra8p0\\localcache\\local-packages\\python311\\site-packages (from getorg) (1.4.2)\n",
      "Requirement already satisfied: comm>=0.1.3 in c:\\users\\siser\\appdata\\local\\packages\\pythonsoftwarefoundation.python.3.11_qbz5n2kfra8p0\\localcache\\local-packages\\python311\\site-packages (from ipywidgets) (0.2.2)\n",
      "Requirement already satisfied: ipython>=6.1.0 in c:\\users\\siser\\appdata\\local\\packages\\pythonsoftwarefoundation.python.3.11_qbz5n2kfra8p0\\localcache\\local-packages\\python311\\site-packages (from ipywidgets) (9.4.0)\n",
      "Requirement already satisfied: traitlets>=4.3.1 in c:\\users\\siser\\appdata\\local\\packages\\pythonsoftwarefoundation.python.3.11_qbz5n2kfra8p0\\localcache\\local-packages\\python311\\site-packages (from ipywidgets) (5.14.3)\n",
      "Requirement already satisfied: widgetsnbextension~=4.0.14 in c:\\users\\siser\\appdata\\local\\packages\\pythonsoftwarefoundation.python.3.11_qbz5n2kfra8p0\\localcache\\local-packages\\python311\\site-packages (from ipywidgets) (4.0.14)\n",
      "Requirement already satisfied: jupyterlab_widgets~=3.0.15 in c:\\users\\siser\\appdata\\local\\packages\\pythonsoftwarefoundation.python.3.11_qbz5n2kfra8p0\\localcache\\local-packages\\python311\\site-packages (from ipywidgets) (3.0.15)\n",
      "Requirement already satisfied: colorama in c:\\users\\siser\\appdata\\local\\packages\\pythonsoftwarefoundation.python.3.11_qbz5n2kfra8p0\\localcache\\local-packages\\python311\\site-packages (from ipython>=6.1.0->ipywidgets) (0.4.6)\n",
      "Requirement already satisfied: decorator in c:\\users\\siser\\appdata\\local\\packages\\pythonsoftwarefoundation.python.3.11_qbz5n2kfra8p0\\localcache\\local-packages\\python311\\site-packages (from ipython>=6.1.0->ipywidgets) (5.2.1)\n",
      "Requirement already satisfied: ipython-pygments-lexers in c:\\users\\siser\\appdata\\local\\packages\\pythonsoftwarefoundation.python.3.11_qbz5n2kfra8p0\\localcache\\local-packages\\python311\\site-packages (from ipython>=6.1.0->ipywidgets) (1.1.1)\n",
      "Requirement already satisfied: jedi>=0.16 in c:\\users\\siser\\appdata\\local\\packages\\pythonsoftwarefoundation.python.3.11_qbz5n2kfra8p0\\localcache\\local-packages\\python311\\site-packages (from ipython>=6.1.0->ipywidgets) (0.19.2)\n",
      "Requirement already satisfied: matplotlib-inline in c:\\users\\siser\\appdata\\local\\packages\\pythonsoftwarefoundation.python.3.11_qbz5n2kfra8p0\\localcache\\local-packages\\python311\\site-packages (from ipython>=6.1.0->ipywidgets) (0.1.7)\n",
      "Requirement already satisfied: prompt_toolkit<3.1.0,>=3.0.41 in c:\\users\\siser\\appdata\\local\\packages\\pythonsoftwarefoundation.python.3.11_qbz5n2kfra8p0\\localcache\\local-packages\\python311\\site-packages (from ipython>=6.1.0->ipywidgets) (3.0.51)\n",
      "Requirement already satisfied: pygments>=2.4.0 in c:\\users\\siser\\appdata\\local\\packages\\pythonsoftwarefoundation.python.3.11_qbz5n2kfra8p0\\localcache\\local-packages\\python311\\site-packages (from ipython>=6.1.0->ipywidgets) (2.19.2)\n",
      "Requirement already satisfied: stack_data in c:\\users\\siser\\appdata\\local\\packages\\pythonsoftwarefoundation.python.3.11_qbz5n2kfra8p0\\localcache\\local-packages\\python311\\site-packages (from ipython>=6.1.0->ipywidgets) (0.6.3)\n",
      "Requirement already satisfied: typing_extensions>=4.6 in c:\\users\\siser\\appdata\\local\\packages\\pythonsoftwarefoundation.python.3.11_qbz5n2kfra8p0\\localcache\\local-packages\\python311\\site-packages (from ipython>=6.1.0->ipywidgets) (4.14.1)\n",
      "Requirement already satisfied: geographiclib<3,>=1.52 in c:\\users\\siser\\appdata\\local\\packages\\pythonsoftwarefoundation.python.3.11_qbz5n2kfra8p0\\localcache\\local-packages\\python311\\site-packages (from geopy->getorg) (2.0)\n",
      "Requirement already satisfied: pynacl>=1.4.0 in c:\\users\\siser\\appdata\\local\\packages\\pythonsoftwarefoundation.python.3.11_qbz5n2kfra8p0\\localcache\\local-packages\\python311\\site-packages (from pygithub->getorg) (1.5.0)\n",
      "Requirement already satisfied: requests>=2.14.0 in c:\\users\\siser\\appdata\\local\\packages\\pythonsoftwarefoundation.python.3.11_qbz5n2kfra8p0\\localcache\\local-packages\\python311\\site-packages (from pygithub->getorg) (2.32.4)\n",
      "Requirement already satisfied: pyjwt>=2.4.0 in c:\\users\\siser\\appdata\\local\\packages\\pythonsoftwarefoundation.python.3.11_qbz5n2kfra8p0\\localcache\\local-packages\\python311\\site-packages (from pyjwt[crypto]>=2.4.0->pygithub->getorg) (2.10.1)\n",
      "Requirement already satisfied: urllib3>=1.26.0 in c:\\users\\siser\\appdata\\local\\packages\\pythonsoftwarefoundation.python.3.11_qbz5n2kfra8p0\\localcache\\local-packages\\python311\\site-packages (from pygithub->getorg) (2.5.0)\n",
      "Requirement already satisfied: parso<0.9.0,>=0.8.4 in c:\\users\\siser\\appdata\\local\\packages\\pythonsoftwarefoundation.python.3.11_qbz5n2kfra8p0\\localcache\\local-packages\\python311\\site-packages (from jedi>=0.16->ipython>=6.1.0->ipywidgets) (0.8.4)\n",
      "Requirement already satisfied: wcwidth in c:\\users\\siser\\appdata\\local\\packages\\pythonsoftwarefoundation.python.3.11_qbz5n2kfra8p0\\localcache\\local-packages\\python311\\site-packages (from prompt_toolkit<3.1.0,>=3.0.41->ipython>=6.1.0->ipywidgets) (0.2.13)\n",
      "Requirement already satisfied: cryptography>=3.4.0 in c:\\users\\siser\\appdata\\local\\packages\\pythonsoftwarefoundation.python.3.11_qbz5n2kfra8p0\\localcache\\local-packages\\python311\\site-packages (from pyjwt[crypto]>=2.4.0->pygithub->getorg) (45.0.5)\n",
      "Requirement already satisfied: cffi>=1.4.1 in c:\\users\\siser\\appdata\\local\\packages\\pythonsoftwarefoundation.python.3.11_qbz5n2kfra8p0\\localcache\\local-packages\\python311\\site-packages (from pynacl>=1.4.0->pygithub->getorg) (1.17.1)\n",
      "Requirement already satisfied: charset_normalizer<4,>=2 in c:\\users\\siser\\appdata\\local\\packages\\pythonsoftwarefoundation.python.3.11_qbz5n2kfra8p0\\localcache\\local-packages\\python311\\site-packages (from requests>=2.14.0->pygithub->getorg) (3.4.2)\n",
      "Requirement already satisfied: idna<4,>=2.5 in c:\\users\\siser\\appdata\\local\\packages\\pythonsoftwarefoundation.python.3.11_qbz5n2kfra8p0\\localcache\\local-packages\\python311\\site-packages (from requests>=2.14.0->pygithub->getorg) (3.10)\n",
      "Requirement already satisfied: certifi>=2017.4.17 in c:\\users\\siser\\appdata\\local\\packages\\pythonsoftwarefoundation.python.3.11_qbz5n2kfra8p0\\localcache\\local-packages\\python311\\site-packages (from requests>=2.14.0->pygithub->getorg) (2025.8.3)\n",
      "Requirement already satisfied: executing>=1.2.0 in c:\\users\\siser\\appdata\\local\\packages\\pythonsoftwarefoundation.python.3.11_qbz5n2kfra8p0\\localcache\\local-packages\\python311\\site-packages (from stack_data->ipython>=6.1.0->ipywidgets) (2.2.0)\n",
      "Requirement already satisfied: asttokens>=2.1.0 in c:\\users\\siser\\appdata\\local\\packages\\pythonsoftwarefoundation.python.3.11_qbz5n2kfra8p0\\localcache\\local-packages\\python311\\site-packages (from stack_data->ipython>=6.1.0->ipywidgets) (3.0.0)\n",
      "Requirement already satisfied: pure-eval in c:\\users\\siser\\appdata\\local\\packages\\pythonsoftwarefoundation.python.3.11_qbz5n2kfra8p0\\localcache\\local-packages\\python311\\site-packages (from stack_data->ipython>=6.1.0->ipywidgets) (0.2.3)\n",
      "Requirement already satisfied: pycparser in c:\\users\\siser\\appdata\\local\\packages\\pythonsoftwarefoundation.python.3.11_qbz5n2kfra8p0\\localcache\\local-packages\\python311\\site-packages (from cffi>=1.4.1->pynacl>=1.4.0->pygithub->getorg) (2.22)\n",
      "Iywidgets and ipyleaflet support disabled. You must be in a Jupyter notebook to use this feature.\n",
      "Error raised:\n",
      "No module named 'ipyleaflet'\n",
      "Check that you have enabled ipyleaflet in Jupyter with:\n",
      "    jupyter nbextension enable --py ipyleaflet\n"
     ]
    }
   ],
   "source": [
    "!pip install getorg --upgrade ipywidgets\n",
    "import glob\n",
    "import getorg\n",
    "from geopy import Nominatim"
   ]
  },
  {
   "cell_type": "code",
   "execution_count": 2,
   "metadata": {
    "collapsed": false
   },
   "outputs": [],
   "source": [
    "g = glob.glob(\"../_talks/*.md\")"
   ]
  },
  {
   "cell_type": "code",
   "execution_count": 3,
   "metadata": {
    "collapsed": true
   },
   "outputs": [],
   "source": [
    "geocoder = Nominatim(user_agent = \"geopy.geocoders.options.default_user_agent = 'my-application'\", timeout=10)\n",
    "location_dict = {}\n",
    "location = \"\"\n",
    "permalink = \"\"\n",
    "title = \"\""
   ]
  },
  {
   "cell_type": "code",
   "execution_count": 4,
   "metadata": {
    "collapsed": false
   },
   "outputs": [
    {
     "name": "stdout",
     "output_type": "stream",
     "text": [
      "Barcelona, Spain \n",
      " Barcelona, Barcelonès, Barcelona, Catalunya, España\n",
      "Hamburg, Germany \n",
      " Hamburg, Deutschland\n",
      "Valladolid, Spain \n",
      " Valladolid, Castilla y León, España\n",
      "Málaga, Spain \n",
      " Málaga, Málaga-Costa del Sol, Málaga, Andalucía, España\n",
      "Kobe, Japan \n",
      " 神戸市, 兵庫県, 日本\n",
      "Technical University of Munich, Garching near Munich, Germany \n",
      " None\n",
      "Denver, Colorado, USA \n",
      " Denver, Colorado, United States\n",
      "Ostrava, Czech Republic \n",
      " Ostrava, okres Ostrava-město, Moravskoslezský kraj, Moravskoslezsko, Česko\n",
      "Rome, Italy \n",
      " Roma, Roma Capitale, Lazio, Italia\n",
      "Politechnika Częstochowska, Poland \n",
      " Politechnika Częstochowska, Aleja Armii Krajowej, Osiedle Tysiąclecia, Tysiąclecie, Częstochowa, województwo śląskie, 42-201, Polska\n",
      "Timisoara, Romania \n",
      " Timișoara, Timiș, România\n",
      "Ciudad Real, Spain \n",
      " Ciudad Real, Castilla-La Mancha, España\n",
      "Lugano, Switzerland \n",
      " Lugano, Circolo di Lugano ovest, Distretto di Lugano, Ticino, Schweiz/Suisse/Svizzera/Svizra\n",
      "Madrid, Spain \n",
      " Madrid, Comunidad de Madrid, España\n",
      "Paris, France \n",
      " Paris, Île-de-France, France métropolitaine, France\n",
      "Bordeaux, France \n",
      " Bordeaux, Gironde, Nouvelle-Aquitaine, France métropolitaine, France\n",
      "Bristol, United Kingdom \n",
      " Bristol, City of Bristol, West of England, England, United Kingdom\n",
      "Córdoba, Spain \n",
      " Córdoba, Andalucía, España\n",
      "->IGNORED: Teruel, Spain \n",
      "\n",
      "ISC25, Hamburg, Germany \n",
      " None\n",
      "Castelló de la Plana, Spain \n",
      " Castelló de la Plana / Castellón de la Plana, la Plana Alta, Castelló / Castellón, Comunitat Valenciana, España\n",
      "Rennes, France \n",
      " Rennes, Ille-et-Vilaine, Bretagne, France métropolitaine, France\n",
      "Limassol, Cyprus \n",
      " Λεμεσός, Δήμος Λεμεσού, Επαρχία Λεμεσού, Κύπρος, Κύπρος - Kıbrıs\n"
     ]
    }
   ],
   "source": [
    "for file in g:\n",
    "    with open(file, 'r', encoding=\"utf-8\") as f:\n",
    "        lines = f.read()\n",
    "        if lines.find('location: \"') > 1:\n",
    "            loc_start = lines.find('location: \"') + 11\n",
    "            lines_trim = lines[loc_start:]\n",
    "            loc_end = lines_trim.find('\"')\n",
    "            location = lines_trim[:loc_end]\n",
    "            if \"Teruel\" in location:\n",
    "                print(\"->IGNORED:\", location, \"\\n\")\n",
    "            elif not location in location_dict.keys() and location != \"Online\":\n",
    "                location_dict[location] = geocoder.geocode(location)\n",
    "                print(location, \"\\n\", location_dict[location])\n"
   ]
  },
  {
   "cell_type": "code",
   "execution_count": 5,
   "metadata": {},
   "outputs": [
    {
     "name": "stdout",
     "output_type": "stream",
     "text": [
      "Belfast, Northern Ireland (UK) \n",
      " Belfast, Belfast City District, County Antrim, Northern Ireland / Tuaisceart Éireann, United Kingdom\n",
      "Berkeley, California (USA) \n",
      " Berkeley, Alameda County, California, United States\n",
      "St. Charles, Illinois (USA) \n",
      " St. Charles, St. Charles Township, Kane County, Illinois, 60174, United States\n",
      "Fiuggi (Italy) \n",
      " Fiuggi, Frosinone, Lazio, Italia\n",
      "Amsterdam (Netherlands) \n",
      " Amsterdam, Noord-Holland, Nederland\n",
      "Ljubljana (Slovenia) \n",
      " Ljubljana, Upravna Enota Ljubljana, Slovenija\n",
      "Dallas, Texas (USA) \n",
      " Dallas, Dallas County, Texas, United States\n",
      "Salt Lake City, Utah (USA) \n",
      " Salt Lake City, Salt Lake County, Utah, United States\n",
      "Austin, Texas (USA) \n",
      " Austin, Travis County, Texas, United States\n",
      "Turin (Italy) \n",
      " Torino, Piemonte, Italia\n",
      "Grenoble (France) \n",
      " Grenoble, Isère, Auvergne-Rhône-Alpes, France métropolitaine, France\n",
      "València (Spain) \n",
      " València, Comarca de València, València / Valencia, Comunitat Valenciana, España\n",
      "Almería (Spain) \n",
      " Almería, Andalucía, España\n",
      "Garching (Germany) \n",
      " Garching bei München, Landkreis München, Bayern, 85748, Deutschland\n",
      "Gdansk (Poland) \n",
      " Gdańsk, województwo pomorskie, Polska\n",
      "Benicàssim (Spain) \n",
      " Benicàssim / Benicasim, la Plana Alta, Castelló / Castellón, Comunitat Valenciana, 12560, España\n",
      "León (Spain) \n",
      " León, Castilla y León, España\n",
      "Alboraia (Spain) \n",
      " Alboraia / Alboraya, l'Horta Nord, València / Valencia, Comunitat Valenciana, 46120, España\n",
      "Stanford, California (USA) \n",
      " Stanford, Santa Clara County, California, United States\n",
      "Burjassot (Spain) \n",
      " Burjassot, l'Horta Nord, València / Valencia, Comunitat Valenciana, 46100, España\n",
      "Almassora (Spain) \n",
      " Almassora, la Plana Alta, Castelló / Castellón, Comunitat Valenciana, España\n",
      "Sevilla (Spain) \n",
      " Sevilla, Andalucía, España\n",
      "Atlanta, Georgia (USA) \n",
      " Atlanta, Fulton County, Georgia, United States\n",
      "Sant Cugat, Barcelona (Spain) \n",
      " Sant Cugat del Vallès, Vallès Occidental, Barcelona, Catalunya, España\n",
      "Teruel, Teruel (Spain) \n",
      " Teruel, Comunidad de Teruel, Teruel, Aragón, España\n",
      "Bologna (Italy) \n",
      " Bologna, Emilia-Romagna, Italia\n",
      "Zaragoza (Spain) \n",
      " Zaragoza, Aragón, España\n"
     ]
    }
   ],
   "source": [
    "file = \"other-locations.txt\"\n",
    "with open(file, 'r', encoding=\"utf-8\") as f:\n",
    "    while line := f.readline():\n",
    "        location = line.rstrip()\n",
    "        if not location in location_dict.keys():\n",
    "            location_dict[location] = geocoder.geocode(location)\n",
    "            print(location, \"\\n\", location_dict[location])"
   ]
  },
  {
   "cell_type": "code",
   "execution_count": 6,
   "metadata": {
    "collapsed": false
   },
   "outputs": [
    {
     "data": {
      "text/plain": [
       "'Written map to ../talkmap/'"
      ]
     },
     "execution_count": 6,
     "metadata": {},
     "output_type": "execute_result"
    }
   ],
   "source": [
    "import shutil\n",
    "mydir = \"../talkmap\"\n",
    "shutil.rmtree(mydir)\n",
    "m = getorg.orgmap.create_map_obj()\n",
    "getorg.orgmap.output_html_cluster_map(location_dict, folder_name=mydir, hashed_usernames=False)"
   ]
  },
  {
   "cell_type": "code",
   "execution_count": null,
   "metadata": {},
   "outputs": [],
   "source": []
  }
 ],
 "metadata": {
  "anaconda-cloud": {},
  "kernelspec": {
   "display_name": "Python 3",
   "language": "python",
   "name": "python3"
  },
  "language_info": {
   "codemirror_mode": {
    "name": "ipython",
    "version": 3
   },
   "file_extension": ".py",
   "mimetype": "text/x-python",
   "name": "python",
   "nbconvert_exporter": "python",
   "pygments_lexer": "ipython3",
   "version": "3.11.9"
  }
 },
 "nbformat": 4,
 "nbformat_minor": 0
}
