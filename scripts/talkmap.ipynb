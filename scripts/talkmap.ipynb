{
 "cells": [
  {
   "cell_type": "markdown",
   "metadata": {},
   "source": [
    "# Leaflet cluster map of talk locations\n",
    "\n",
    "Run this from the _talks/ directory, which contains .md files of all your talks. This scrapes the location YAML field from each .md file, geolocates it with geopy/Nominatim, and uses the getorg library to output data, HTML, and Javascript for a standalone cluster map."
   ]
  },
  {
   "cell_type": "code",
   "execution_count": 9,
   "metadata": {
    "collapsed": false
   },
   "outputs": [
    {
     "name": "stdout",
     "output_type": "stream",
     "text": [
      "Requirement already satisfied: getorg in c:\\users\\bscuser\\appdata\\local\\packages\\pythonsoftwarefoundation.python.3.11_qbz5n2kfra8p0\\localcache\\local-packages\\python311\\site-packages (0.3.1)\n",
      "Requirement already satisfied: ipywidgets in c:\\users\\bscuser\\appdata\\local\\packages\\pythonsoftwarefoundation.python.3.11_qbz5n2kfra8p0\\localcache\\local-packages\\python311\\site-packages (8.1.5)\n",
      "Requirement already satisfied: geopy in c:\\users\\bscuser\\appdata\\local\\packages\\pythonsoftwarefoundation.python.3.11_qbz5n2kfra8p0\\localcache\\local-packages\\python311\\site-packages (from getorg) (2.4.1)\n",
      "Requirement already satisfied: pygithub in c:\\users\\bscuser\\appdata\\local\\packages\\pythonsoftwarefoundation.python.3.11_qbz5n2kfra8p0\\localcache\\local-packages\\python311\\site-packages (from getorg) (2.3.0)\n",
      "Requirement already satisfied: retrying in c:\\users\\bscuser\\appdata\\local\\packages\\pythonsoftwarefoundation.python.3.11_qbz5n2kfra8p0\\localcache\\local-packages\\python311\\site-packages (from getorg) (1.3.4)\n",
      "Requirement already satisfied: comm>=0.1.3 in c:\\users\\bscuser\\appdata\\local\\packages\\pythonsoftwarefoundation.python.3.11_qbz5n2kfra8p0\\localcache\\local-packages\\python311\\site-packages (from ipywidgets) (0.2.1)\n",
      "Requirement already satisfied: ipython>=6.1.0 in c:\\users\\bscuser\\appdata\\local\\packages\\pythonsoftwarefoundation.python.3.11_qbz5n2kfra8p0\\localcache\\local-packages\\python311\\site-packages (from ipywidgets) (8.21.0)\n",
      "Requirement already satisfied: traitlets>=4.3.1 in c:\\users\\bscuser\\appdata\\local\\packages\\pythonsoftwarefoundation.python.3.11_qbz5n2kfra8p0\\localcache\\local-packages\\python311\\site-packages (from ipywidgets) (5.14.1)\n",
      "Requirement already satisfied: widgetsnbextension~=4.0.12 in c:\\users\\bscuser\\appdata\\local\\packages\\pythonsoftwarefoundation.python.3.11_qbz5n2kfra8p0\\localcache\\local-packages\\python311\\site-packages (from ipywidgets) (4.0.13)\n",
      "Requirement already satisfied: jupyterlab-widgets~=3.0.12 in c:\\users\\bscuser\\appdata\\local\\packages\\pythonsoftwarefoundation.python.3.11_qbz5n2kfra8p0\\localcache\\local-packages\\python311\\site-packages (from ipywidgets) (3.0.13)\n",
      "Requirement already satisfied: decorator in c:\\users\\bscuser\\appdata\\local\\packages\\pythonsoftwarefoundation.python.3.11_qbz5n2kfra8p0\\localcache\\local-packages\\python311\\site-packages (from ipython>=6.1.0->ipywidgets) (5.1.1)\n",
      "Requirement already satisfied: jedi>=0.16 in c:\\users\\bscuser\\appdata\\local\\packages\\pythonsoftwarefoundation.python.3.11_qbz5n2kfra8p0\\localcache\\local-packages\\python311\\site-packages (from ipython>=6.1.0->ipywidgets) (0.19.1)\n",
      "Requirement already satisfied: matplotlib-inline in c:\\users\\bscuser\\appdata\\local\\packages\\pythonsoftwarefoundation.python.3.11_qbz5n2kfra8p0\\localcache\\local-packages\\python311\\site-packages (from ipython>=6.1.0->ipywidgets) (0.1.6)\n",
      "Requirement already satisfied: prompt-toolkit<3.1.0,>=3.0.41 in c:\\users\\bscuser\\appdata\\local\\packages\\pythonsoftwarefoundation.python.3.11_qbz5n2kfra8p0\\localcache\\local-packages\\python311\\site-packages (from ipython>=6.1.0->ipywidgets) (3.0.43)\n",
      "Requirement already satisfied: pygments>=2.4.0 in c:\\users\\bscuser\\appdata\\local\\packages\\pythonsoftwarefoundation.python.3.11_qbz5n2kfra8p0\\localcache\\local-packages\\python311\\site-packages (from ipython>=6.1.0->ipywidgets) (2.17.2)\n",
      "Requirement already satisfied: stack-data in c:\\users\\bscuser\\appdata\\local\\packages\\pythonsoftwarefoundation.python.3.11_qbz5n2kfra8p0\\localcache\\local-packages\\python311\\site-packages (from ipython>=6.1.0->ipywidgets) (0.6.3)\n",
      "Requirement already satisfied: colorama in c:\\users\\bscuser\\appdata\\local\\packages\\pythonsoftwarefoundation.python.3.11_qbz5n2kfra8p0\\localcache\\local-packages\\python311\\site-packages (from ipython>=6.1.0->ipywidgets) (0.4.6)\n",
      "Requirement already satisfied: geographiclib<3,>=1.52 in c:\\users\\bscuser\\appdata\\local\\packages\\pythonsoftwarefoundation.python.3.11_qbz5n2kfra8p0\\localcache\\local-packages\\python311\\site-packages (from geopy->getorg) (2.0)\n",
      "Requirement already satisfied: pynacl>=1.4.0 in c:\\users\\bscuser\\appdata\\local\\packages\\pythonsoftwarefoundation.python.3.11_qbz5n2kfra8p0\\localcache\\local-packages\\python311\\site-packages (from pygithub->getorg) (1.5.0)\n",
      "Requirement already satisfied: requests>=2.14.0 in c:\\users\\bscuser\\appdata\\local\\packages\\pythonsoftwarefoundation.python.3.11_qbz5n2kfra8p0\\localcache\\local-packages\\python311\\site-packages (from pygithub->getorg) (2.31.0)\n",
      "Requirement already satisfied: pyjwt>=2.4.0 in c:\\users\\bscuser\\appdata\\local\\packages\\pythonsoftwarefoundation.python.3.11_qbz5n2kfra8p0\\localcache\\local-packages\\python311\\site-packages (from pyjwt[crypto]>=2.4.0->pygithub->getorg) (2.8.0)\n",
      "Requirement already satisfied: typing-extensions>=4.0.0 in c:\\users\\bscuser\\appdata\\local\\packages\\pythonsoftwarefoundation.python.3.11_qbz5n2kfra8p0\\localcache\\local-packages\\python311\\site-packages (from pygithub->getorg) (4.11.0)\n",
      "Requirement already satisfied: urllib3>=1.26.0 in c:\\users\\bscuser\\appdata\\local\\packages\\pythonsoftwarefoundation.python.3.11_qbz5n2kfra8p0\\localcache\\local-packages\\python311\\site-packages (from pygithub->getorg) (2.2.1)\n",
      "Requirement already satisfied: Deprecated in c:\\users\\bscuser\\appdata\\local\\packages\\pythonsoftwarefoundation.python.3.11_qbz5n2kfra8p0\\localcache\\local-packages\\python311\\site-packages (from pygithub->getorg) (1.2.14)\n",
      "Requirement already satisfied: six>=1.7.0 in c:\\users\\bscuser\\appdata\\local\\packages\\pythonsoftwarefoundation.python.3.11_qbz5n2kfra8p0\\localcache\\local-packages\\python311\\site-packages (from retrying->getorg) (1.16.0)\n",
      "Requirement already satisfied: parso<0.9.0,>=0.8.3 in c:\\users\\bscuser\\appdata\\local\\packages\\pythonsoftwarefoundation.python.3.11_qbz5n2kfra8p0\\localcache\\local-packages\\python311\\site-packages (from jedi>=0.16->ipython>=6.1.0->ipywidgets) (0.8.3)\n",
      "Requirement already satisfied: wcwidth in c:\\users\\bscuser\\appdata\\local\\packages\\pythonsoftwarefoundation.python.3.11_qbz5n2kfra8p0\\localcache\\local-packages\\python311\\site-packages (from prompt-toolkit<3.1.0,>=3.0.41->ipython>=6.1.0->ipywidgets) (0.2.13)\n",
      "Requirement already satisfied: cryptography>=3.4.0 in c:\\users\\bscuser\\appdata\\local\\packages\\pythonsoftwarefoundation.python.3.11_qbz5n2kfra8p0\\localcache\\local-packages\\python311\\site-packages (from pyjwt[crypto]>=2.4.0->pygithub->getorg) (42.0.7)\n",
      "Requirement already satisfied: cffi>=1.4.1 in c:\\users\\bscuser\\appdata\\local\\packages\\pythonsoftwarefoundation.python.3.11_qbz5n2kfra8p0\\localcache\\local-packages\\python311\\site-packages (from pynacl>=1.4.0->pygithub->getorg) (1.16.0)\n",
      "Requirement already satisfied: charset-normalizer<4,>=2 in c:\\users\\bscuser\\appdata\\local\\packages\\pythonsoftwarefoundation.python.3.11_qbz5n2kfra8p0\\localcache\\local-packages\\python311\\site-packages (from requests>=2.14.0->pygithub->getorg) (3.3.2)\n",
      "Requirement already satisfied: idna<4,>=2.5 in c:\\users\\bscuser\\appdata\\local\\packages\\pythonsoftwarefoundation.python.3.11_qbz5n2kfra8p0\\localcache\\local-packages\\python311\\site-packages (from requests>=2.14.0->pygithub->getorg) (3.7)\n",
      "Requirement already satisfied: certifi>=2017.4.17 in c:\\users\\bscuser\\appdata\\local\\packages\\pythonsoftwarefoundation.python.3.11_qbz5n2kfra8p0\\localcache\\local-packages\\python311\\site-packages (from requests>=2.14.0->pygithub->getorg) (2024.2.2)\n",
      "Requirement already satisfied: wrapt<2,>=1.10 in c:\\users\\bscuser\\appdata\\local\\packages\\pythonsoftwarefoundation.python.3.11_qbz5n2kfra8p0\\localcache\\local-packages\\python311\\site-packages (from Deprecated->pygithub->getorg) (1.16.0)\n",
      "Requirement already satisfied: executing>=1.2.0 in c:\\users\\bscuser\\appdata\\local\\packages\\pythonsoftwarefoundation.python.3.11_qbz5n2kfra8p0\\localcache\\local-packages\\python311\\site-packages (from stack-data->ipython>=6.1.0->ipywidgets) (2.0.1)\n",
      "Requirement already satisfied: asttokens>=2.1.0 in c:\\users\\bscuser\\appdata\\local\\packages\\pythonsoftwarefoundation.python.3.11_qbz5n2kfra8p0\\localcache\\local-packages\\python311\\site-packages (from stack-data->ipython>=6.1.0->ipywidgets) (2.4.1)\n",
      "Requirement already satisfied: pure-eval in c:\\users\\bscuser\\appdata\\local\\packages\\pythonsoftwarefoundation.python.3.11_qbz5n2kfra8p0\\localcache\\local-packages\\python311\\site-packages (from stack-data->ipython>=6.1.0->ipywidgets) (0.2.2)\n",
      "Requirement already satisfied: pycparser in c:\\users\\bscuser\\appdata\\local\\packages\\pythonsoftwarefoundation.python.3.11_qbz5n2kfra8p0\\localcache\\local-packages\\python311\\site-packages (from cffi>=1.4.1->pynacl>=1.4.0->pygithub->getorg) (2.22)\n"
     ]
    },
    {
     "name": "stderr",
     "output_type": "stream",
     "text": [
      "\n",
      "[notice] A new release of pip is available: 24.1.2 -> 24.3.1\n",
      "[notice] To update, run: C:\\Users\\bscuser\\AppData\\Local\\Microsoft\\WindowsApps\\PythonSoftwareFoundation.Python.3.11_qbz5n2kfra8p0\\python.exe -m pip install --upgrade pip\n"
     ]
    }
   ],
   "source": [
    "!pip install getorg --upgrade ipywidgets\n",
    "import glob\n",
    "import getorg\n",
    "from geopy import Nominatim"
   ]
  },
  {
   "cell_type": "code",
   "execution_count": 10,
   "metadata": {
    "collapsed": false
   },
   "outputs": [],
   "source": [
    "g = glob.glob(\"../_talks/*.md\")"
   ]
  },
  {
   "cell_type": "code",
   "execution_count": 23,
   "metadata": {
    "collapsed": true
   },
   "outputs": [],
   "source": [
    "geocoder = Nominatim(user_agent = \"geopy.geocoders.options.default_user_agent = 'my-application'\")\n",
    "location_dict = {}\n",
    "location = \"\"\n",
    "permalink = \"\"\n",
    "title = \"\""
   ]
  },
  {
   "cell_type": "code",
   "execution_count": 24,
   "metadata": {
    "collapsed": false
   },
   "outputs": [
    {
     "name": "stdout",
     "output_type": "stream",
     "text": [
      "Madrid, Spain \n",
      " Madrid, Comunidad de Madrid, España\n",
      "Valladolid, Spain \n",
      " Valladolid, Castilla y León, España\n",
      "Lugano, Switzerland \n",
      " Lugano, Circolo di Lugano ovest, Distretto di Lugano, Ticino, Schweiz/Suisse/Svizzera/Svizra\n",
      "Paris, France \n",
      " Paris, Île-de-France, France métropolitaine, France\n",
      "Barcelona, Spain \n",
      " Barcelona, Barcelonès, Barcelona, Catalunya, España\n",
      "Castelló de la Plana, Spain \n",
      " Castelló de la Plana / Castellón de la Plana, la Plana Alta, Castelló / Castellón, Comunitat Valenciana, España\n",
      "Córdoba, Spain \n",
      " Córdoba, Andalucía, España\n",
      "Timisoara, Romania \n",
      " Timișoara, Timiș, România\n",
      "Rome, Italy \n",
      " Roma, Roma Capitale, Lazio, Italia\n",
      "Bristol, United Kingdom \n",
      " Bristol, City of Bristol, West of England, England, United Kingdom\n",
      "Málaga, Spain \n",
      " Málaga, Málaga-Costa del Sol, Málaga, Andalucía, España\n",
      "Teruel, Spain \n",
      " Teruel, Aragón, España\n",
      "Limassol, Cyprus \n",
      " Λεμεσός, Δήμος Λεμεσού, Επαρχία Λεμεσού, Κύπρος, Κύπρος - Kıbrıs\n",
      "Rennes, France \n",
      " Rennes, Ille-et-Vilaine, Bretagne, France métropolitaine, France\n",
      "Politechnika Częstochowska, Poland \n",
      " Politechnika Częstochowska, Aleja Armii Krajowej, Osiedle Tysiąclecia, Tysiąclecie, Częstochowa, województwo śląskie, 42-201, Polska\n",
      "Bordeaux, France \n",
      " Bordeaux, Gironde, Nouvelle-Aquitaine, France métropolitaine, France\n",
      "Ciudad Real, Spain \n",
      " Ciudad Real, Castilla-La Mancha, España\n",
      "Denver, Colorado, USA \n",
      " Denver, Colorado, United States\n",
      "Kobe, Japan \n",
      " 神戸市, 兵庫県, 日本\n",
      "Hamburg, Germany \n",
      " Hamburg, Deutschland\n",
      "Ostrava, Czech Republic \n",
      " Ostrava, okres Ostrava-město, Moravskoslezský kraj, Moravskoslezsko, Česko\n"
     ]
    }
   ],
   "source": [
    "for file in g:\n",
    "    with open(file, 'r', encoding=\"utf-8\") as f:\n",
    "        lines = f.read()\n",
    "        if lines.find('location: \"') > 1:\n",
    "            loc_start = lines.find('location: \"') + 11\n",
    "            lines_trim = lines[loc_start:]\n",
    "            loc_end = lines_trim.find('\"')\n",
    "            location = lines_trim[:loc_end]\n",
    "        if not location in location_dict.keys() and location != \"Online\":\n",
    "            location_dict[location] = geocoder.geocode(location)\n",
    "            print(location, \"\\n\", location_dict[location])\n"
   ]
  },
  {
   "cell_type": "code",
   "execution_count": null,
   "metadata": {},
   "outputs": [
    {
     "name": "stdout",
     "output_type": "stream",
     "text": [
      "Belfast, Northern Ireland (UK) \n",
      " Belfast, County Antrim, Northern Ireland / Tuaisceart Éireann, United Kingdom\n",
      "Berkeley, California (USA) \n",
      " Berkeley, Alameda County, California, United States\n",
      "St. Charles, Illinois (USA) \n",
      " St. Charles, St. Charles Township, Kane County, Illinois, 60174, United States\n",
      "Fiuggi (Italy) \n",
      " Fiuggi, Frosinone, Lazio, Italia\n",
      "Amsterdam (Netherlands) \n",
      " Amsterdam, Noord-Holland, Nederland\n",
      "Ljubljana (Slovenia) \n",
      " Ljubljana, Upravna Enota Ljubljana, Slovenija\n",
      "Dallas, Texas (USA) \n",
      " Dallas, Dallas County, Texas, United States\n",
      "Salt Lake City, Utah (USA) \n",
      " Salt Lake City, Salt Lake County, Utah, United States\n",
      "Austin, Texas (USA) \n",
      " Austin, Travis County, Texas, United States\n",
      "Turin (Italy) \n",
      " Torino, Piemonte, Italia\n",
      "Grenoble (France) \n",
      " Grenoble, Isère, Auvergne-Rhône-Alpes, France métropolitaine, France\n",
      "València (Spain) \n",
      " València, Comarca de València, València / Valencia, Comunitat Valenciana, España\n",
      "Almería (Spain) \n",
      " Almería, Andalucía, España\n",
      "Garching (Germany) \n",
      " Garching bei München, Landkreis München, Bayern, 85748, Deutschland\n",
      "Gdansk (Poland) \n",
      " Gdańsk, województwo pomorskie, Polska\n",
      "Benicàssim (Spain) \n",
      " Benicàssim / Benicasim, la Plana Alta, Castelló / Castellón, Comunitat Valenciana, 12560, España\n",
      "León (Spain) \n",
      " León, Castilla y León, España\n",
      "Alboraia (Spain) \n",
      " Alboraia / Alboraya, l'Horta Nord, València / Valencia, Comunitat Valenciana, 46120, España\n",
      "Stanford, California (USA) \n",
      " Stanford, Santa Clara County, California, United States\n",
      "Burjassot (Spain) \n",
      " Burjassot, l'Horta Nord, València / Valencia, Comunitat Valenciana, 46100, España\n",
      "Almassora (Spain) \n",
      " Almassora, la Plana Alta, Castelló / Castellón, Comunitat Valenciana, España\n",
      "Sevilla (Spain) \n",
      " Sevilla, Andalucía, España\n",
      "Atlanta, Georgia (USA) \n",
      " Atlanta, Fulton County, Georgia, United States\n"
     ]
    }
   ],
   "source": [
    "file = \"other-locations.txt\"\n",
    "with open(file, 'r', encoding=\"utf-8\") as f:\n",
    "    while line := f.readline():\n",
    "        location = line.rstrip()\n",
    "        if not location in location_dict.keys():\n",
    "            location_dict[location] = geocoder.geocode(location)\n",
    "            print(location, \"\\n\", location_dict[location])"
   ]
  },
  {
   "cell_type": "code",
   "execution_count": 6,
   "metadata": {
    "collapsed": false
   },
   "outputs": [
    {
     "data": {
      "text/plain": [
       "'Written map to ../talkmap/'"
      ]
     },
     "execution_count": 6,
     "metadata": {},
     "output_type": "execute_result"
    }
   ],
   "source": [
    "import shutil\n",
    "mydir = \"../talkmap\"\n",
    "shutil.rmtree(mydir)\n",
    "m = getorg.orgmap.create_map_obj()\n",
    "getorg.orgmap.output_html_cluster_map(location_dict, folder_name=mydir, hashed_usernames=False)"
   ]
  },
  {
   "cell_type": "code",
   "execution_count": null,
   "metadata": {},
   "outputs": [],
   "source": []
  }
 ],
 "metadata": {
  "anaconda-cloud": {},
  "kernelspec": {
   "display_name": "Python 3",
   "language": "python",
   "name": "python3"
  },
  "language_info": {
   "codemirror_mode": {
    "name": "ipython",
    "version": 3
   },
   "file_extension": ".py",
   "mimetype": "text/x-python",
   "name": "python",
   "nbconvert_exporter": "python",
   "pygments_lexer": "ipython3",
   "version": "3.11.9"
  }
 },
 "nbformat": 4,
 "nbformat_minor": 0
}
